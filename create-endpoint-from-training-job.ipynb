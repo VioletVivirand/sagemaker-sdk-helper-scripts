{
 "cells": [
  {
   "cell_type": "code",
   "execution_count": null,
   "id": "161a9970-2d40-49b1-8de2-3c6ac08f9d81",
   "metadata": {
    "tags": []
   },
   "outputs": [],
   "source": [
    "!pip install -U sagemaker"
   ]
  },
  {
   "cell_type": "code",
   "execution_count": null,
   "id": "26f5e856-4b6d-4381-81a3-ba61ffb372f6",
   "metadata": {
    "tags": []
   },
   "outputs": [],
   "source": [
    "import boto3\n",
    "import pandas as pd\n",
    "import numpy as np\n",
    "import sagemaker\n",
    "import json\n",
    "from sagemaker.sklearn.estimator import SKLearn\n",
    "\n",
    "s3 = boto3.client(\"s3\")\n",
    "sagemaker_session = sagemaker.Session()"
   ]
  },
  {
   "cell_type": "code",
   "execution_count": null,
   "id": "7e034bc3-c496-4d18-a5d2-dd3edc8ad226",
   "metadata": {
    "tags": []
   },
   "outputs": [],
   "source": [
    "training_job_name = 'sagemaker-scikit-learn-2024-06-04-06-44-38-978'"
   ]
  },
  {
   "cell_type": "code",
   "execution_count": null,
   "id": "729a74a8-8f34-4802-86d9-cd1cd119477e",
   "metadata": {
    "tags": []
   },
   "outputs": [],
   "source": [
    "model_name = f\"model-{training_job_name}\"\n",
    "endpoint_name = f\"endpoint-{training_job_name}\""
   ]
  },
  {
   "cell_type": "code",
   "execution_count": null,
   "id": "5f8a621c-a0e9-40fd-8c56-77d2f2ab6daf",
   "metadata": {
    "tags": []
   },
   "outputs": [],
   "source": [
    "trained_estimator = SKLearn.attach(\n",
    "    training_job_name=training_job_name,\n",
    "    sagemaker_session=sagemaker_session,\n",
    ")"
   ]
  },
  {
   "cell_type": "code",
   "execution_count": null,
   "id": "04749dfa-f6a3-48cb-8415-e8a361f02c40",
   "metadata": {
    "tags": []
   },
   "outputs": [],
   "source": [
    "predictor = trained_estimator.deploy(\n",
    "    initial_instance_count=1,\n",
    "    instance_type=\"ml.t2.medium\",\n",
    "    model_name=model_name,\n",
    "    endpoint_name=endpoint_name,\n",
    ")"
   ]
  },
  {
   "cell_type": "code",
   "execution_count": null,
   "id": "2db4dcca-2ac6-4ac1-96c7-f05206dfdf7f",
   "metadata": {
    "tags": []
   },
   "outputs": [],
   "source": [
    "categories_map = {0: 'Iris-setosa', 1: 'Iris-versicolor', 2: 'Iris-virginica'}"
   ]
  },
  {
   "cell_type": "code",
   "execution_count": null,
   "id": "e5678b43-3924-42d7-85ff-89ed0aaf7177",
   "metadata": {
    "tags": []
   },
   "outputs": [],
   "source": [
    "client = sagemaker_session.sagemaker_runtime_client\n",
    "\n",
    "request_body = {\"Input\": [[9.0, 3571, 1976, 0.525]]}\n",
    "data = json.loads(json.dumps(request_body))\n",
    "payload = json.dumps(data)\n",
    "\n",
    "response = client.invoke_endpoint(\n",
    "    EndpointName=endpoint_name, ContentType=\"application/json\", Body=payload\n",
    ")\n",
    "\n",
    "result = json.loads(response[\"Body\"].read().decode())[\"Output\"]\n",
    "\n",
    "print(\"Predicted class category {} ({})\".format(result, categories_map[result]))"
   ]
  },
  {
   "cell_type": "code",
   "execution_count": null,
   "id": "08a6a4c1-055e-4ee9-aa0a-58e4519517ee",
   "metadata": {
    "tags": []
   },
   "outputs": [],
   "source": [
    "predictor.delete_model()\n",
    "predictor.delete_endpoint()\n",
    "\n",
    "# OR\n",
    "predictor.delete_endpoint(delete_endpoint_config=False)"
   ]
  },
  {
   "cell_type": "code",
   "execution_count": null,
   "id": "291d769e-ed97-462b-8fff-02043e2f1067",
   "metadata": {},
   "outputs": [],
   "source": []
  }
 ],
 "metadata": {
  "kernelspec": {
   "display_name": "conda_python3",
   "language": "python",
   "name": "conda_python3"
  },
  "language_info": {
   "codemirror_mode": {
    "name": "ipython",
    "version": 3
   },
   "file_extension": ".py",
   "mimetype": "text/x-python",
   "name": "python",
   "nbconvert_exporter": "python",
   "pygments_lexer": "ipython3",
   "version": "3.10.14"
  }
 },
 "nbformat": 4,
 "nbformat_minor": 5
}

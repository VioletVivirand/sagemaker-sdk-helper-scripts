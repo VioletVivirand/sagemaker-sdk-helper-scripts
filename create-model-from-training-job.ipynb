{
 "cells": [
  {
   "cell_type": "code",
   "execution_count": null,
   "id": "643ce68e-f0da-4a61-a5d2-5d435bfcfd33",
   "metadata": {
    "tags": []
   },
   "outputs": [],
   "source": [
    "!pip install -U sagemaker"
   ]
  },
  {
   "cell_type": "code",
   "execution_count": null,
   "id": "fb809b74-1833-46e4-b198-ceaeba93da9f",
   "metadata": {
    "tags": []
   },
   "outputs": [],
   "source": [
    "import boto3\n",
    "import pandas as pd\n",
    "import numpy as np\n",
    "import sagemaker\n",
    "import json\n",
    "from sagemaker.sklearn.estimator import SKLearn\n",
    "\n",
    "s3 = boto3.client(\"s3\")\n",
    "sagemaker_session = sagemaker.Session()"
   ]
  },
  {
   "cell_type": "code",
   "execution_count": null,
   "id": "5c7acdde-4af0-4277-a68c-36654aeef8c1",
   "metadata": {
    "tags": []
   },
   "outputs": [],
   "source": [
    "training_job_name = 'sagemaker-scikit-learn-2024-06-04-06-44-38-978'"
   ]
  },
  {
   "cell_type": "code",
   "execution_count": null,
   "id": "248e7f71-9cf4-4010-be90-24a227a10ca1",
   "metadata": {
    "tags": []
   },
   "outputs": [],
   "source": [
    "model_name = f\"model-{training_job_name}\"\n",
    "endpoint_name = f\"endpoint-{training_job_name}\""
   ]
  },
  {
   "cell_type": "code",
   "execution_count": null,
   "id": "4fc364bc-7775-47a1-98c2-014d7acf331e",
   "metadata": {
    "tags": []
   },
   "outputs": [],
   "source": [
    "trained_estimator = SKLearn.attach(\n",
    "    training_job_name=training_job_name,\n",
    "    sagemaker_session=sagemaker_session,\n",
    ")"
   ]
  },
  {
   "cell_type": "code",
   "execution_count": null,
   "id": "553e6bf6-41d4-46bc-ab14-12e0e10c84b6",
   "metadata": {
    "tags": []
   },
   "outputs": [],
   "source": [
    "model = trained_estimator.create_model()"
   ]
  },
  {
   "cell_type": "code",
   "execution_count": null,
   "id": "d998921a-8ed8-465a-95f4-955361f1f3f0",
   "metadata": {
    "tags": []
   },
   "outputs": [],
   "source": [
    "predictor = model.deploy(\n",
    "    initial_instance_count=1,\n",
    "    instance_type=\"ml.t2.medium\",\n",
    "    model_name=model_name,\n",
    "    endpoint_name=endpoint_name,\n",
    ")"
   ]
  },
  {
   "cell_type": "code",
   "execution_count": null,
   "id": "7a396fb7-b33c-4e44-91aa-350daab3d94b",
   "metadata": {
    "tags": []
   },
   "outputs": [],
   "source": [
    "categories_map = {0: 'Iris-setosa', 1: 'Iris-versicolor', 2: 'Iris-virginica'}"
   ]
  },
  {
   "cell_type": "code",
   "execution_count": null,
   "id": "fe22805b-df50-4c8a-949e-9b79d02f8311",
   "metadata": {
    "tags": []
   },
   "outputs": [],
   "source": [
    "client = sagemaker_session.sagemaker_runtime_client\n",
    "\n",
    "request_body = {\"Input\": [[9.0, 3571, 1976, 0.525]]}\n",
    "data = json.loads(json.dumps(request_body))\n",
    "payload = json.dumps(data)\n",
    "\n",
    "response = client.invoke_endpoint(\n",
    "    EndpointName=endpoint_name, ContentType=\"application/json\", Body=payload\n",
    ")\n",
    "\n",
    "result = json.loads(response[\"Body\"].read().decode())[\"Output\"]\n",
    "\n",
    "print(\"Predicted class category {} ({})\".format(result, categories_map[result]))"
   ]
  },
  {
   "cell_type": "code",
   "execution_count": null,
   "id": "3813ace8-6915-4583-b148-4c4b983f19fe",
   "metadata": {
    "tags": []
   },
   "outputs": [],
   "source": [
    "# predictor.delete_model()\n",
    "# predictor.delete_endpoint()\n",
    "\n",
    "# OR\n",
    "predictor.delete_endpoint(delete_endpoint_config=False)"
   ]
  },
  {
   "cell_type": "code",
   "execution_count": null,
   "id": "330f53ec-4ae9-4aca-ae83-b505140af3ce",
   "metadata": {},
   "outputs": [],
   "source": []
  }
 ],
 "metadata": {
  "kernelspec": {
   "display_name": "conda_python3",
   "language": "python",
   "name": "conda_python3"
  },
  "language_info": {
   "codemirror_mode": {
    "name": "ipython",
    "version": 3
   },
   "file_extension": ".py",
   "mimetype": "text/x-python",
   "name": "python",
   "nbconvert_exporter": "python",
   "pygments_lexer": "ipython3",
   "version": "3.10.14"
  }
 },
 "nbformat": 4,
 "nbformat_minor": 5
}
